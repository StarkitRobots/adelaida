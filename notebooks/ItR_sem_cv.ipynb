{
 "cells": [
  {
   "cell_type": "markdown",
   "metadata": {},
   "source": [
    "# Введение в компьютерное зрение"
   ]
  },
  {
   "cell_type": "markdown",
   "metadata": {},
   "source": [
    "Добавить план лекции\n",
    "Добавить презу в ноутбук\n",
    "\n",
    "Из пайплайна детекции следует 3 шага \n",
    "- Цвет преза + код\n",
    "- Морфология преза + код\n",
    "- Связные компоненты преза + код\n",
    "Объединяем все в общий пайплайн детекции и переходим на видео\n",
    "\n",
    "https://app.diagrams.net"
   ]
  },
  {
   "cell_type": "markdown",
   "metadata": {},
   "source": [
    "- [ ] "
   ]
  },
  {
   "cell_type": "markdown",
   "metadata": {},
   "source": [
    "Вход - изображение \n",
    "- Трекинг\n",
    "- Классификация &rarr; сущность объекта \n",
    "- сегментация &rarr; маска и сущность объекта\n",
    "Выход для детекции - координаты объектов"
   ]
  },
  {
   "cell_type": "markdown",
   "metadata": {},
   "source": [
    "СВ - основной источник информации для наших роботов. Ее функции:\n",
    "- Получать пиксельные координаты объектов"
   ]
  },
  {
   "cell_type": "markdown",
   "metadata": {},
   "source": [
    "## Обработка изображений"
   ]
  },
  {
   "cell_type": "code",
   "execution_count": null,
   "metadata": {},
   "outputs": [],
   "source": [
    "import cv2\n",
    "import sys\n",
    "\n",
    "sys.path.append(\"../modules/\")\n",
    "import input_output\n",
    "\n",
    "#чтение картинки\n",
    "img = cv2.imread (\"../data/images/rgb_basket.jpg\")\n",
    "\n",
    "#выделение по цвету\n",
    "low_th  = (35, 15, 50)\n",
    "high_th = (60, 75, 135)\n",
    "mask_rgb = cv2.inRange (img, low_th, high_th)\n",
    "\n",
    "#изменение цветового пространства\n",
    "hsv = cv2.cvtColor (img, cv2.COLOR_BGR2HSV)\n",
    "\n",
    "#выделение по цвету\n",
    "low_th  = (0, 125, 80)\n",
    "high_th = (15, 165, 105)\n",
    "mask_hsv = cv2.inRange (hsv, low_th, high_th)\n",
    "\n",
    "imgs = [img, mask_rgb, hsv, mask_hsv]\n",
    "cv2.imshow (\"frame\", input_output.form_grid (imgs, 850))\n",
    "\n",
    "cv2.waitKey (0)\n",
    "\n",
    "cv2.destroyAllWindows()"
   ]
  },
  {
   "cell_type": "markdown",
   "metadata": {},
   "source": [
    "## Применение фильтра"
   ]
  },
  {
   "cell_type": "code",
   "execution_count": null,
   "metadata": {
    "scrolled": true
   },
   "outputs": [
    {
     "name": "stdout",
     "output_type": "stream",
     "text": [
      "photo\n"
     ]
    }
   ],
   "source": [
    "import cv2\n",
    "import time\n",
    "import os\n",
    "import math\n",
    "import sys\n",
    "\n",
    "sys.path.append(\"../modules/\")\n",
    "\n",
    "import input_output\n",
    "import processor\n",
    "\n",
    "det = processor.Processors ()\n",
    "det.add_processor (\"basket\")\n",
    "\n",
    "low_th  = (35, 15, 50)\n",
    "high_th = (60, 75, 135)\n",
    "det.add_filter (processor.inrange (low_th, high_th), \"basket\", \"inrange rgb\")\n",
    "\n",
    "source = input_output.Source (\"../data/images/rgb_basket.jpg\")\n",
    "\n",
    "while (True):\n",
    "    frame = source.get_frame ()\n",
    "\n",
    "    mask, success = det.process (frame, \"basket\")\n",
    "\n",
    "    stages = det.get_stages (\"basket\")\n",
    "\n",
    "    cv2.imshow (\"frame\", input_output.form_grid (stages, 850))\n",
    "        \n",
    "    time.sleep (0.02)\n",
    "\n",
    "    keyb = cv2.waitKey (1) & 0xFF\n",
    "\n",
    "    if (keyb == ord('q')):\n",
    "        break\n",
    "        \n",
    "source.release()\n",
    "cv2.destroyAllWindows()"
   ]
  },
  {
   "cell_type": "markdown",
   "metadata": {},
   "source": [
    "## Нахождение объекта в условиях меняющегося освещения"
   ]
  },
  {
   "cell_type": "code",
   "execution_count": null,
   "metadata": {},
   "outputs": [
    {
     "name": "stdout",
     "output_type": "stream",
     "text": [
      "photo\n"
     ]
    }
   ],
   "source": [
    "import cv2\n",
    "import time\n",
    "import os\n",
    "import math\n",
    "import sys\n",
    "\n",
    "sys.path.append(\"../modules/\")\n",
    "\n",
    "import input_output\n",
    "import processor\n",
    "\n",
    "det = processor.Processors ()\n",
    "det.add_processor (\"basket\")\n",
    "\n",
    "#gamma correction (lighting conditions change simulation) and online tuning\n",
    "det.add_filter (processor.gamma_correction (1), \"basket\", \"gamma correction\")\n",
    "cv2.namedWindow ('trackbars')\n",
    "cv2.createTrackbar (\"gamma\", \"trackbars\", 100, 200, \n",
    "    lambda new_coeff : det.processors [\"basket\"]\n",
    "                    [\"gamma correction\"].set_gamma (float (new_coeff) / 100))\n",
    "\n",
    "low_th  = (35, 15, 50)\n",
    "high_th = (60, 75, 135)\n",
    "det.add_filter (processor.inrange (low_th, high_th), \"basket\", \"inrange rgb\")\n",
    "\n",
    "#bbox extraction\n",
    "det.add_filter (processor.max_area_cc_bbox (), \"basket\", \"bbox extraction\")\n",
    "\n",
    "source = input_output.Source (\"../data/images/rgb_basket.jpg\")\n",
    "#source  = input_output.Source (\"../data/output.avi\")\n",
    "#source  = input_output.Source (\"-1\")\n",
    "\n",
    "while (True):\n",
    "    frame = source.get_frame ()\n",
    "\n",
    "    mask, success = det.process (frame, \"basket\")\n",
    "\n",
    "    stages = det.get_stages_picts (\"basket\")\n",
    "    \n",
    "    cv2.imshow (\"frame\", input_output.form_grid (stages, 850))\n",
    "    \n",
    "    time.sleep (0.02)\n",
    "\n",
    "    keyb = cv2.waitKey (1) & 0xFF\n",
    "\n",
    "    if (keyb == ord('q')):\n",
    "        break\n",
    "\n",
    "source.release()\n",
    "cv2.destroyAllWindows()"
   ]
  },
  {
   "cell_type": "markdown",
   "metadata": {},
   "source": [
    "## Распределение цветов в разных цветовых пространствах"
   ]
  },
  {
   "cell_type": "code",
   "execution_count": null,
   "metadata": {},
   "outputs": [
    {
     "name": "stdout",
     "output_type": "stream",
     "text": [
      "photo\n"
     ]
    }
   ],
   "source": [
    "import cv2\n",
    "import time\n",
    "import os\n",
    "import math\n",
    "import sys\n",
    "from matplotlib import pyplot as plt\n",
    "\n",
    "sys.path.append(\"../modules/\")\n",
    "\n",
    "import input_output\n",
    "import processor\n",
    "\n",
    "det = processor.Processors ()\n",
    "\n",
    "det.add_processor (\"basket_rgb\")\n",
    "det.add_processor (\"basket_hsv\")\n",
    "\n",
    "det.add_filter (processor.gamma_correction (1), \"basket_rgb\", \"gamma correction\")\n",
    "det.add_filter (processor.gamma_correction (1), \"basket_hsv\", \"gamma correction\")\n",
    "\n",
    "def set_gamma_for_all (new_gamma):\n",
    "    det.processors [\"basket_rgb\"] [\"gamma correction\"].set_gamma (new_gamma)\n",
    "    det.processors [\"basket_hsv\"] [\"gamma correction\"].set_gamma (new_gamma)\n",
    "\n",
    "cv2.namedWindow ('trackbars')\n",
    "cv2.createTrackbar (\"gamma\", \"trackbars\", 100, 200, \n",
    "    lambda new_coeff : set_gamma_for_all (float (new_coeff) / 100))\n",
    "\n",
    "det.add_filter (processor.colorspace_to_colorspace (\"RGB\", \"HSV\"),\n",
    "                \"basket_hsv\", \"colorspaces change 1\")\n",
    "\n",
    "det.add_filter (processor.calc_distribution (), \"basket_rgb\",\n",
    "                \"distribution calculation\")\n",
    "det.add_filter (processor.calc_distribution (), \"basket_hsv\",\n",
    "                \"distribution calculation\")\n",
    "\n",
    "source = input_output.Source (\"../data/images/rgb_basket.jpg\")\n",
    "#source  = input_output.Source (\"../data/output.avi\")\n",
    "#source  = input_output.Source (\"-1\")\n",
    "\n",
    "while (True):\n",
    "    frame = source.get_frame ()\n",
    "\n",
    "    mask, success = det.process (frame, \"basket_rgb\")\n",
    "    mask, success = det.process (frame, \"basket_hsv\")\n",
    "\n",
    "    stages_rgb = det.get_stages_picts (\"basket_rgb\")\n",
    "    stages_hsv = det.get_stages_picts (\"basket_hsv\")\n",
    "\n",
    "    cv2.imshow (\"frame\", input_output.form_grid (stages_rgb + stages_hsv, 1150))\n",
    "    \n",
    "    time.sleep (0.02)\n",
    "\n",
    "    keyb = cv2.waitKey (1) & 0xFF\n",
    "\n",
    "    if (keyb == ord('q')):\n",
    "        break\n",
    "\n",
    "source.release()\n",
    "cv2.destroyAllWindows()"
   ]
  },
  {
   "cell_type": "code",
   "execution_count": null,
   "metadata": {},
   "outputs": [],
   "source": []
  }
 ],
 "metadata": {
  "kernelspec": {
   "display_name": "Python 3",
   "language": "python",
   "name": "python3"
  },
  "language_info": {
   "codemirror_mode": {
    "name": "ipython",
    "version": 3
   },
   "file_extension": ".py",
   "mimetype": "text/x-python",
   "name": "python",
   "nbconvert_exporter": "python",
   "pygments_lexer": "ipython3",
   "version": "3.7.3"
  }
 },
 "nbformat": 4,
 "nbformat_minor": 2
}
