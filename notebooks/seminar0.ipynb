{
 "cells": [
  {
   "cell_type": "code",
   "execution_count": null,
   "metadata": {
    "scrolled": true
   },
   "outputs": [],
   "source": [
    "import cv2\n",
    "import time\n",
    "import os\n",
    "import math\n",
    "import sys\n",
    "\n",
    "sys.path.append(\"../modules/\")\n",
    "import input_output\n",
    "\n",
    "#чтение картинки\n",
    "img = cv2.imread (\"../data/images/rgb_basket.jpg\")\n",
    "\n",
    "#выделение по цвету\n",
    "low_th  = (35, 15, 50)\n",
    "high_th = (60, 75, 135)\n",
    "mask_rgb = cv2.inRange (img, low_th, high_th)\n",
    "\n",
    "#изменение цветового пространства\n",
    "hsv = cv2.cvtColor (img, cv2.COLOR_BGR2HSV)\n",
    "\n",
    "#выделение по цвету\n",
    "low_th  = (85, 140, 0)\n",
    "high_th = (100, 160, 10)\n",
    "mask_hsv = cv2.inRange (img, low_th, high_th)\n",
    "\n",
    "imgs = [img, mask_rgb, hsv, mask_hsv]\n",
    "cv2.imshow (\"frame\", input_output.form_grid (imgs, 1000))\n",
    "\n",
    "cv2.waitKey (0)\n",
    "\n",
    "cv2.destroyAllWindows()"
   ]
  },
  {
   "cell_type": "code",
   "execution_count": null,
   "metadata": {},
   "outputs": [],
   "source": []
  },
  {
   "cell_type": "code",
   "execution_count": null,
   "metadata": {},
   "outputs": [],
   "source": []
  }
 ],
 "metadata": {
  "kernelspec": {
   "display_name": "Python 3",
   "language": "python",
   "name": "python3"
  },
  "language_info": {
   "codemirror_mode": {
    "name": "ipython",
    "version": 3
   },
   "file_extension": ".py",
   "mimetype": "text/x-python",
   "name": "python",
   "nbconvert_exporter": "python",
   "pygments_lexer": "ipython3",
   "version": "3.7.3"
  }
 },
 "nbformat": 4,
 "nbformat_minor": 2
}
